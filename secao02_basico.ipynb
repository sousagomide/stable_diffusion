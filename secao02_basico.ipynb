{
  "nbformat": 4,
  "nbformat_minor": 0,
  "metadata": {
    "colab": {
      "provenance": [],
      "gpuType": "T4",
      "authorship_tag": "ABX9TyNdOYLIOupBb8j5mQPWpcay",
      "include_colab_link": true
    },
    "kernelspec": {
      "name": "python3",
      "display_name": "Python 3"
    },
    "language_info": {
      "name": "python"
    },
    "accelerator": "GPU"
  },
  "cells": [
    {
      "cell_type": "markdown",
      "metadata": {
        "id": "view-in-github",
        "colab_type": "text"
      },
      "source": [
        "<a href=\"https://colab.research.google.com/github/sousagomide/stable_diffusion/blob/main/secao02_basico.ipynb\" target=\"_parent\"><img src=\"https://colab.research.google.com/assets/colab-badge.svg\" alt=\"Open In Colab\"/></a>"
      ]
    },
    {
      "cell_type": "markdown",
      "source": [
        "# Instalação"
      ],
      "metadata": {
        "id": "h9-TW_WGRhgu"
      }
    },
    {
      "cell_type": "code",
      "execution_count": null,
      "metadata": {
        "id": "el-Lkt8kM_Jg"
      },
      "outputs": [],
      "source": [
        "!nvidia-smi"
      ]
    },
    {
      "cell_type": "code",
      "source": [
        "!pip install diffusers==0.11.1\n",
        "!pip install -q accelerate transformers ftfy bitsandbytes==0.35.0 gradio natsort safetensors xformers"
      ],
      "metadata": {
        "id": "E8yiHUISNzTD"
      },
      "execution_count": null,
      "outputs": []
    },
    {
      "cell_type": "code",
      "source": [
        "import torch\n",
        "from diffusers import StableDiffusionPipeline"
      ],
      "metadata": {
        "id": "sGrmZ37MPRLE"
      },
      "execution_count": 4,
      "outputs": []
    },
    {
      "cell_type": "code",
      "source": [
        "pipe = StableDiffusionPipeline.from_pretrained('CompVis/stable-diffusion-v1-4', torch_dtype=torch.float16)"
      ],
      "metadata": {
        "id": "zUI3G0idPrq8"
      },
      "execution_count": null,
      "outputs": []
    },
    {
      "cell_type": "code",
      "source": [
        "pipe.safety_checker = lambda images, clip_input: (images, False)"
      ],
      "metadata": {
        "id": "DAn2Pyyle4wT"
      },
      "execution_count": 38,
      "outputs": []
    },
    {
      "cell_type": "code",
      "source": [
        "pipe = pipe.to('cuda')"
      ],
      "metadata": {
        "id": "ArSZLoBpQP7F"
      },
      "execution_count": 39,
      "outputs": []
    },
    {
      "cell_type": "code",
      "source": [
        "pipe.enable_attention_slicing()\n",
        "pipe.enable_xformers_memory_efficient_attention()"
      ],
      "metadata": {
        "id": "X5lVVTrERCNj"
      },
      "execution_count": 40,
      "outputs": []
    },
    {
      "cell_type": "markdown",
      "source": [
        "# Prompts\n",
        "Sites para criação de prompts:\n",
        "\n",
        "*   https://lexica.art/\n",
        "*   https://civitai.com/\n",
        "*   https://www.mage.space/explore\n",
        "*   https://publicprompts.art/\n",
        "*   https://playgroundai.com/\n",
        "*   https://stablediffusion.fr/prompts\n",
        "*   https://github.com/Dalabad/stable-diffusion-prompt-templates"
      ],
      "metadata": {
        "id": "KJAC9rlFUGXb"
      }
    },
    {
      "cell_type": "code",
      "source": [
        "prompt = 'an apple' #Gerar uma maçã"
      ],
      "metadata": {
        "id": "Nqr-5kG7Zq74"
      },
      "execution_count": 8,
      "outputs": []
    },
    {
      "cell_type": "code",
      "source": [
        "img = pipe(prompt).images[0]"
      ],
      "metadata": {
        "id": "7FBrHqwyZ9lM"
      },
      "execution_count": null,
      "outputs": []
    },
    {
      "cell_type": "code",
      "source": [
        "type(img)"
      ],
      "metadata": {
        "id": "BcErNI_2aKvf"
      },
      "execution_count": null,
      "outputs": []
    },
    {
      "cell_type": "code",
      "source": [
        "img"
      ],
      "metadata": {
        "id": "BMdelnxJaTX8"
      },
      "execution_count": null,
      "outputs": []
    },
    {
      "cell_type": "code",
      "source": [
        "prompt = 'photograph of an apple' # Fotografia de uma maçã\n",
        "img = pipe(prompt).images[0]\n",
        "img"
      ],
      "metadata": {
        "id": "svOFaVQlayyw"
      },
      "execution_count": null,
      "outputs": []
    },
    {
      "cell_type": "code",
      "source": [
        "img.save('resultado.png') # Salva a imagem em um arquivo"
      ],
      "metadata": {
        "id": "Nb7Vj9ZFb9Mk"
      },
      "execution_count": 29,
      "outputs": []
    },
    {
      "cell_type": "code",
      "source": [
        "prompt = 'a photograph of an astronaut riding a horse, color'\n",
        "#prompt = 'a photograph of an naked top model, color'\n",
        "img = pipe(prompt).images[0]\n",
        "img"
      ],
      "metadata": {
        "id": "eSEyrOeNdPc_"
      },
      "execution_count": null,
      "outputs": []
    },
    {
      "cell_type": "markdown",
      "source": [
        "# Gerando vários resultados"
      ],
      "metadata": {
        "id": "4OmlJ5AofxKg"
      }
    },
    {
      "cell_type": "code",
      "source": [
        "from PIL import Image # Biblioteca para gerar imagens\n",
        "\n",
        "def grid_img(imgs, rows=1, cols=3, scale=1):\n",
        "  assert len(imgs) == rows * cols\n",
        "  w, h = imgs[0].size\n",
        "  w, h = int(w * scale), int(h * scale)\n",
        "  grid = Image.new('RGB', size = (cols * w, rows * h))\n",
        "  grid_w, grid_h = grid.size\n",
        "  for i, img in enumerate(imgs):\n",
        "    img = img.resize((w, h), Image.ANTIALIAS)\n",
        "    grid.paste(img, box=(i % cols * w, i // cols * h)) # Questão de redimensionamento\n",
        "  return grid"
      ],
      "metadata": {
        "id": "JLNQ2UnQfzhI"
      },
      "execution_count": 47,
      "outputs": []
    },
    {
      "cell_type": "code",
      "source": [
        "num_imgs = 3\n",
        "prompt = 'photograph of an old car'\n",
        "imgs = pipe(prompt, num_images_per_prompt=num_imgs).images\n",
        "grid = grid_img(imgs, rows=3, cols=1, scale=0.75)\n",
        "grid"
      ],
      "metadata": {
        "id": "i1e5OARYighO"
      },
      "execution_count": null,
      "outputs": []
    }
  ]
}