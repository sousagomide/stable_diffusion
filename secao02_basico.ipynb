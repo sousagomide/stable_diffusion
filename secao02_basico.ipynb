{
  "cells": [
    {
      "cell_type": "markdown",
      "metadata": {
        "id": "view-in-github",
        "colab_type": "text"
      },
      "source": [
        "<a href=\"https://colab.research.google.com/github/sousagomide/stable_diffusion/blob/main/secao02_basico.ipynb\" target=\"_parent\"><img src=\"https://colab.research.google.com/assets/colab-badge.svg\" alt=\"Open In Colab\"/></a>"
      ]
    },
    {
      "cell_type": "markdown",
      "metadata": {
        "id": "h9-TW_WGRhgu"
      },
      "source": [
        "# Instalação"
      ]
    },
    {
      "cell_type": "code",
      "execution_count": null,
      "metadata": {
        "id": "el-Lkt8kM_Jg"
      },
      "outputs": [],
      "source": [
        "!nvidia-smi"
      ]
    },
    {
      "cell_type": "code",
      "execution_count": null,
      "metadata": {
        "id": "E8yiHUISNzTD"
      },
      "outputs": [],
      "source": [
        "!pip install diffusers==0.11.1\n",
        "!pip install -q accelerate transformers ftfy bitsandbytes==0.35.0 gradio natsort safetensors xformers"
      ]
    },
    {
      "cell_type": "code",
      "execution_count": null,
      "metadata": {
        "id": "sGrmZ37MPRLE"
      },
      "outputs": [],
      "source": [
        "import torch\n",
        "from diffusers import StableDiffusionPipeline"
      ]
    },
    {
      "cell_type": "code",
      "execution_count": null,
      "metadata": {
        "id": "zUI3G0idPrq8"
      },
      "outputs": [],
      "source": [
        "pipe = StableDiffusionPipeline.from_pretrained('CompVis/stable-diffusion-v1-4', torch_dtype=torch.float16)"
      ]
    },
    {
      "cell_type": "code",
      "execution_count": null,
      "metadata": {
        "id": "DAn2Pyyle4wT"
      },
      "outputs": [],
      "source": [
        "pipe.safety_checker = lambda images, clip_input: (images, False)"
      ]
    },
    {
      "cell_type": "code",
      "execution_count": null,
      "metadata": {
        "id": "ArSZLoBpQP7F"
      },
      "outputs": [],
      "source": [
        "pipe = pipe.to('cuda')"
      ]
    },
    {
      "cell_type": "code",
      "execution_count": null,
      "metadata": {
        "id": "X5lVVTrERCNj"
      },
      "outputs": [],
      "source": [
        "pipe.enable_attention_slicing()\n",
        "pipe.enable_xformers_memory_efficient_attention()"
      ]
    },
    {
      "cell_type": "markdown",
      "metadata": {
        "id": "KJAC9rlFUGXb"
      },
      "source": [
        "# Prompts\n",
        "Sites para criação de prompts:\n",
        "\n",
        "*   https://lexica.art/\n",
        "*   https://civitai.com/\n",
        "*   https://www.mage.space/explore\n",
        "*   https://publicprompts.art/\n",
        "*   https://playgroundai.com/\n",
        "*   https://stablediffusion.fr/prompts\n",
        "*   https://github.com/Dalabad/stable-diffusion-prompt-templates"
      ]
    },
    {
      "cell_type": "code",
      "execution_count": null,
      "metadata": {
        "id": "Nqr-5kG7Zq74"
      },
      "outputs": [],
      "source": [
        "prompt = 'an apple' #Gerar uma maçã"
      ]
    },
    {
      "cell_type": "code",
      "execution_count": null,
      "metadata": {
        "id": "7FBrHqwyZ9lM"
      },
      "outputs": [],
      "source": [
        "img = pipe(prompt).images[0]"
      ]
    },
    {
      "cell_type": "code",
      "execution_count": null,
      "metadata": {
        "id": "BcErNI_2aKvf"
      },
      "outputs": [],
      "source": [
        "type(img)"
      ]
    },
    {
      "cell_type": "code",
      "execution_count": null,
      "metadata": {
        "id": "BMdelnxJaTX8"
      },
      "outputs": [],
      "source": [
        "img"
      ]
    },
    {
      "cell_type": "code",
      "execution_count": null,
      "metadata": {
        "id": "svOFaVQlayyw"
      },
      "outputs": [],
      "source": [
        "prompt = 'photograph of an apple' # Fotografia de uma maçã\n",
        "img = pipe(prompt).images[0]\n",
        "img"
      ]
    },
    {
      "cell_type": "code",
      "execution_count": null,
      "metadata": {
        "id": "Nb7Vj9ZFb9Mk"
      },
      "outputs": [],
      "source": [
        "img.save('resultado.png') # Salva a imagem em um arquivo"
      ]
    },
    {
      "cell_type": "code",
      "execution_count": null,
      "metadata": {
        "id": "eSEyrOeNdPc_"
      },
      "outputs": [],
      "source": [
        "prompt = 'a photograph of an astronaut riding a horse, color'\n",
        "#prompt = 'a photograph of an naked top model, color'\n",
        "img = pipe(prompt).images[0]\n",
        "img"
      ]
    },
    {
      "cell_type": "markdown",
      "metadata": {
        "id": "4OmlJ5AofxKg"
      },
      "source": [
        "# Gerando vários resultados"
      ]
    },
    {
      "cell_type": "code",
      "execution_count": null,
      "metadata": {
        "id": "JLNQ2UnQfzhI"
      },
      "outputs": [],
      "source": [
        "from PIL import Image # Biblioteca para gerar imagens\n",
        "\n",
        "def grid_img(imgs, rows=1, cols=3, scale=1):\n",
        "  assert len(imgs) == rows * cols\n",
        "  w, h = imgs[0].size\n",
        "  w, h = int(w * scale), int(h * scale)\n",
        "  grid = Image.new('RGB', size = (cols * w, rows * h))\n",
        "  grid_w, grid_h = grid.size\n",
        "  for i, img in enumerate(imgs):\n",
        "    img = img.resize((w, h), Image.ANTIALIAS)\n",
        "    grid.paste(img, box=(i % cols * w, i // cols * h)) # Questão de redimensionamento\n",
        "  return grid"
      ]
    },
    {
      "cell_type": "code",
      "execution_count": null,
      "metadata": {
        "id": "i1e5OARYighO"
      },
      "outputs": [],
      "source": [
        "num_imgs = 3\n",
        "prompt = 'photograph of an old car'\n",
        "imgs = pipe(prompt, num_images_per_prompt=num_imgs).images\n",
        "grid = grid_img(imgs, rows=3, cols=1, scale=1)\n",
        "grid"
      ]
    },
    {
      "cell_type": "markdown",
      "source": [
        "# Parâmetros"
      ],
      "metadata": {
        "id": "fwNHbJUTH33N"
      }
    },
    {
      "cell_type": "markdown",
      "source": [
        "*   Seed"
      ],
      "metadata": {
        "id": "GiQQnmtLH56D"
      }
    },
    {
      "cell_type": "code",
      "source": [
        "prompt = 'photograph of an old car'\n",
        "seed = 777\n",
        "generator = torch.Generator('cuda').manual_seed(seed)\n",
        "img = pipe(prompt, generator=generator).images[0]\n",
        "img"
      ],
      "metadata": {
        "id": "7I-QlE0mH8C2"
      },
      "execution_count": null,
      "outputs": []
    },
    {
      "cell_type": "code",
      "source": [
        "prompt = 'van gogh painting of an old car'\n",
        "seed = 666\n",
        "generator = torch.Generator('cuda').manual_seed(seed)\n",
        "img = pipe(prompt, generator=generator).images[0]\n",
        "img"
      ],
      "metadata": {
        "id": "2u_MCTISIyg3"
      },
      "execution_count": null,
      "outputs": []
    },
    {
      "cell_type": "markdown",
      "source": [
        "*  Inference Steps"
      ],
      "metadata": {
        "id": "jzO8w0vBJatq"
      }
    },
    {
      "cell_type": "code",
      "source": [
        "seed = 666\n",
        "prompt = 'a photograph of an astronaut riding a horse'\n",
        "generator = torch.Generator('cuda').manual_seed(seed)\n",
        "img = pipe(prompt, num_inference_steps=50, generator=generator).images[0]\n",
        "img"
      ],
      "metadata": {
        "id": "5u-UcdlIJge8"
      },
      "execution_count": null,
      "outputs": []
    },
    {
      "cell_type": "code",
      "source": [
        "import matplotlib.pyplot as plt\n",
        "plt.figure(figsize=(18,8))\n",
        "seed = 777\n",
        "prompt = 'a photograph of an astronaut riding a horse'\n",
        "for i in range(1, 6):\n",
        "  n_steps = i * 10\n",
        "  generator = torch.Generator('cuda').manual_seed(seed)\n",
        "  img = pipe(prompt, num_inference_steps=n_steps, generator=generator).images[0]\n",
        "  plt.subplot(1, 5, i)\n",
        "  plt.title('num_inference_steps: {}'.format(n_steps))\n",
        "  plt.imshow(img)\n",
        "  plt.axis('off')\n",
        "plt.show()"
      ],
      "metadata": {
        "id": "9GOCTiWcK3wC"
      },
      "execution_count": null,
      "outputs": []
    },
    {
      "cell_type": "markdown",
      "source": [
        "* Classifier-free guidance (CFG)"
      ],
      "metadata": {
        "id": "-QkU-9kuMvY6"
      }
    },
    {
      "cell_type": "code",
      "source": [
        "seed = 777\n",
        "prompt = 'a photograph of an astronaut riding a horse'\n",
        "generator = torch.Generator('cuda').manual_seed(seed)\n",
        "img = pipe(prompt, guidance_scale=10, generator=generator).images[0]\n",
        "img"
      ],
      "metadata": {
        "id": "0jmb2O16M2i3"
      },
      "execution_count": null,
      "outputs": []
    },
    {
      "cell_type": "code",
      "source": [
        "import matplotlib.pyplot as plt\n",
        "plt.figure(figsize=(18,8))\n",
        "seed = 777\n",
        "prompt = 'a photograph of an astronaut riding a horse'\n",
        "for i in range(1, 6):\n",
        "  n_guidance = i + 4\n",
        "  generator = torch.Generator('cuda').manual_seed(seed)\n",
        "  img = pipe(prompt, guidance_scale=n_guidance, generator=generator).images[0]\n",
        "  plt.subplot(1, 5, i)\n",
        "  plt.title('guidance_scale: {}'.format(n_guidance))\n",
        "  plt.imshow(img)\n",
        "  plt.axis('off')\n",
        "plt.show()"
      ],
      "metadata": {
        "id": "Ce8GGMz1Ogy9"
      },
      "execution_count": null,
      "outputs": []
    },
    {
      "cell_type": "markdown",
      "source": [
        "* Tamanho da imagem"
      ],
      "metadata": {
        "id": "phRAosOfPTzj"
      }
    },
    {
      "cell_type": "code",
      "source": [
        "seed = 777\n",
        "prompt = 'photograph of a beach landscape during sunset, stars in the sky'\n",
        "generator = torch.Generator('cuda').manual_seed(seed)\n",
        "h, w = 512, 768\n",
        "img = pipe(prompt, height=h, width=w, generator=generator).images[0]\n",
        "img"
      ],
      "metadata": {
        "id": "5K8en5qPPWLk"
      },
      "execution_count": null,
      "outputs": []
    },
    {
      "cell_type": "code",
      "source": [
        "seed = 777\n",
        "prompt = 'photograph of a beach landscape during sunset, stars in the sky'\n",
        "generator = torch.Generator('cuda').manual_seed(seed)\n",
        "h, w = 768, 512\n",
        "img = pipe(prompt, height=h, width=w, generator=generator).images[0]\n",
        "img"
      ],
      "metadata": {
        "id": "L_OvxAVsQEDR"
      },
      "execution_count": null,
      "outputs": []
    },
    {
      "cell_type": "markdown",
      "source": [
        "# Prompts Negativos"
      ],
      "metadata": {
        "id": "23-mmyJdQUz6"
      }
    },
    {
      "cell_type": "markdown",
      "source": [
        "Flags:\n",
        "* ugly: corrige a imagem gerada\n",
        "* deformed: corrige possíveis deformações\n",
        "* disfigured: corrige a desfiguração de rosto"
      ],
      "metadata": {
        "id": "I-PnQB96Qsk8"
      }
    },
    {
      "cell_type": "code",
      "source": [
        "num_images = 3\n",
        "prompt = 'photograph of an old car'\n",
        "neg_prompt = 'bw photo' # bw = black and white\n",
        "imgs = pipe(prompt, negative_prompt=neg_prompt,  num_images_per_prompt=num_images).images\n",
        "grid = grid_img(imgs, rows=1, cols=3, scale=0.75)\n",
        "grid"
      ],
      "metadata": {
        "id": "QmW47MW7QXbX"
      },
      "execution_count": null,
      "outputs": []
    }
  ],
  "metadata": {
    "accelerator": "GPU",
    "colab": {
      "provenance": [],
      "authorship_tag": "ABX9TyN1WGPcUUXUhGIIQCKSzCei",
      "include_colab_link": true
    },
    "kernelspec": {
      "display_name": "Python 3",
      "name": "python3"
    },
    "language_info": {
      "name": "python"
    }
  },
  "nbformat": 4,
  "nbformat_minor": 0
}